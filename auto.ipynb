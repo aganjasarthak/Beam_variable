{
  "nbformat": 4,
  "nbformat_minor": 0,
  "metadata": {
    "colab": {
      "provenance": [],
      "authorship_tag": "ABX9TyPJkxDAx2wBaKQItB6X1vbl",
      "include_colab_link": true
    },
    "kernelspec": {
      "name": "python3",
      "display_name": "Python 3"
    },
    "language_info": {
      "name": "python"
    }
  },
  "cells": [
    {
      "cell_type": "markdown",
      "metadata": {
        "id": "view-in-github",
        "colab_type": "text"
      },
      "source": [
        "<a href=\"https://colab.research.google.com/github/aganjasarthak/Beam_variable/blob/main/auto.ipynb\" target=\"_parent\"><img src=\"https://colab.research.google.com/assets/colab-badge.svg\" alt=\"Open In Colab\"/></a>"
      ]
    },
    {
      "cell_type": "code",
      "execution_count": 14,
      "metadata": {
        "colab": {
          "base_uri": "https://localhost:8080/"
        },
        "id": "Md6JvOeBiYuL",
        "outputId": "b4853659-b640-4621-ad71-2f853a229113"
      },
      "outputs": [
        {
          "output_type": "stream",
          "name": "stdout",
          "text": [
            "1. First Look: Loops, by Pixelfed – Decentralised TikTok Competitor (2024) - https://wedistribute.org/2024/11/loops-early-look/\n",
            "2. How far can you get in 40 minutes from each subway station in NYC? - https://subwaysheds.com/#11.27/40.7427/-73.9869\n",
            "3. An overview of gradient descent optimization algorithms (2016) - https://www.ruder.io/optimizing-gradient-descent/\n",
            "4. I got OpenAI o1 to play the boardgame Codenames and it's super good - https://suveenellawela.com/thoughts/codenames-ai\n",
            "5. Life lessons from the first half-century of my career - https://cacm.acm.org/opinion/life-lessons-from-the-first-half-century-of-my-career/\n",
            "6. Show HN: Cs16.css – CSS library based on Counter Strike 1.6 UI - https://cs16.samke.me\n",
            "7. Inboxbooster (YC W17) Is Hiring - https://www.ycombinator.com/companies/inboxbooster/jobs/ci7Hwk0-jvm-bytecode-engineer-full-remote\n",
            "8. TinyZero - https://github.com/Jiayi-Pan/TinyZero\n",
            "9. File Explorer is merged to Helix editor - https://github.com/helix-editor/helix/pull/11285\n",
            "10. The Mythical IO-Bound Rails App - https://byroot.github.io/ruby/performance/2025/01/23/the-mythical-io-bound-rails-app.html\n",
            "11. Show HN: Trolling SMS spammers with Ollama - https://evan.widloski.com/software/sms_llm/\n",
            "12. How to build your own ZX80/ZX81 (2019) - http://searle.x10host.com/zx80/zx80.html\n",
            "13. Wild – A fast linker for Linux - https://github.com/davidlattimore/wild\n",
            "14. Show HN: Lightpanda, an open-source headless browser in Zig - https://github.com/lightpanda-io/browser\n",
            "15. A phishing attack involving g.co, Google's URL shortener - https://gist.github.com/zachlatta/f86317493654b550c689dc6509973aa4\n",
            "16. Snowdrop OS – a homebrew operating system from scratch, in assembly language - http://sebastianmihai.com/snowdrop/\n",
            "17. The hidden complexity of scaling WebSockets - https://composehq.com/blog/scaling-websockets-1-23-25\n",
            "18. Subpixel Snake [video] - https://www.youtube.com/watch?v=iDwganLjpW0\n",
            "19. Show HN: Using YOLO to Detect Office Chairs in 40M Hotel Photos - item?id=42779330\n",
            "20. Her dad, the 10k records he left behind and a viral lesson in grief - https://www.washingtonpost.com/style/2025/01/18/vinyl-albums-grief-music-healing/\n"
          ]
        }
      ],
      "source": [
        "import requests\n",
        "from bs4 import BeautifulSoup\n",
        "\n",
        "url = \"https://news.ycombinator.com/\"\n",
        "response = requests.get(url)\n",
        "\n",
        "if response.status_code == 200:\n",
        "    soup = BeautifulSoup(response.text, \"html.parser\")\n",
        "\n",
        "    headlines = soup.select(\".titleline > a\")\n",
        "    for i, headline in enumerate(headlines[:20], start=1):\n",
        "        print(f\"{i}. {headline.text} - {headline['href']}\")\n",
        "else:\n",
        "    print(f\"Failed to fetch data. Status code: {response.status_code}\")\n",
        "\n",
        "\n",
        "# import itertools\n",
        "# charset=\"hello my name is sarthak\"\n",
        "# password=\"aabbc\"\n",
        "\n",
        "# uniquechars=[]\n",
        "# counting_matrix=[]\n",
        "\n",
        "# for char in charset:\n",
        "#     if char not in uniquechars:\n",
        "#           uniquechars.append(char)\n",
        "#           counting_matrix.append(1)\n",
        "#     else:\n",
        "#       indexing=uniquechars.index(char)\n",
        "#       counting_matrix[indexing]+=1\n",
        "\n",
        "\n",
        "# for i in range(len(uniquechars)):\n",
        "#   if uniquechars[i] !=\" \":print(f\"{uniquechars[i]}={counting_matrix[i]}\")\n",
        "\n",
        "\n",
        "\n",
        "\n",
        "# for comb in itertools.product(charset,repeat=5):\n",
        "#   print(''.join(comb))\n",
        "\n",
        "#   if ''.join(comb)==password:\n",
        "#     print(\"found\")\n",
        "#     break\n",
        "\n",
        "\n",
        "\n"
      ]
    }
  ]
}