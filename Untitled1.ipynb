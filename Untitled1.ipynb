{
  "nbformat": 4,
  "nbformat_minor": 0,
  "metadata": {
    "colab": {
      "provenance": [],
      "authorship_tag": "ABX9TyO+OVtHl+KKReE+2i9rzAgv",
      "include_colab_link": true
    },
    "kernelspec": {
      "name": "python3",
      "display_name": "Python 3"
    },
    "language_info": {
      "name": "python"
    }
  },
  "cells": [
    {
      "cell_type": "markdown",
      "metadata": {
        "id": "view-in-github",
        "colab_type": "text"
      },
      "source": [
        "<a href=\"https://colab.research.google.com/github/aganjasarthak/Beam_variable/blob/main/Untitled1.ipynb\" target=\"_parent\"><img src=\"https://colab.research.google.com/assets/colab-badge.svg\" alt=\"Open In Colab\"/></a>"
      ]
    },
    {
      "cell_type": "code",
      "execution_count": 29,
      "metadata": {
        "colab": {
          "base_uri": "https://localhost:8080/"
        },
        "id": "vaS4MGL0iZCt",
        "outputId": "53bcbc5b-a3bd-4db7-9997-1944b0b5213a"
      },
      "outputs": [
        {
          "output_type": "stream",
          "name": "stdout",
          "text": [
            "h : 1\n",
            "e : 2\n",
            "l : 2\n",
            "o : 1\n",
            "  : 2\n",
            "m : 2\n",
            "y : 1\n",
            "n : 1\n",
            "a : 1\n",
            "['h', 'e', 'l', 'o', ' ', 'm', 'y', 'n', 'a']\n"
          ]
        }
      ],
      "source": [
        "str=\"hello my name\"\n",
        "uniquechars=[]\n",
        "countmat=[]\n",
        "jj=0\n",
        "\n",
        "for char in str:\n",
        "   jj=jj+1\n",
        "   if char not in uniquechars:\n",
        "    count+=1\n",
        "    uniquechars.append(char)\n",
        "    countmat.append(1)\n",
        "   else:\n",
        "    indexing=uniquechars.index(char)\n",
        "    countmat[indexing]+=1\n",
        "\n",
        "for i in range(len(uniquechars)):\n",
        "    print(f\"{uniquechars[i]} : {countmat[i]}\")\n",
        "print(f\"{uniquechars}\")\n"
      ]
    }
  ]
}